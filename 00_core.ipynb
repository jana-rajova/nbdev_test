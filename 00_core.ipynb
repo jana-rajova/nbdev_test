{
 "cells": [
  {
   "cell_type": "code",
   "execution_count": null,
   "metadata": {},
   "outputs": [],
   "source": [
    "# default_exp core"
   ]
  },
  {
   "cell_type": "markdown",
   "metadata": {},
   "source": [
    "# module name here\n",
    "\n",
    "> API details."
   ]
  },
  {
   "cell_type": "code",
   "execution_count": null,
   "metadata": {},
   "outputs": [],
   "source": [
    "#hide\n",
    "from nbdev.showdoc import *"
   ]
  },
  {
   "cell_type": "markdown",
   "metadata": {},
   "source": [
    "#export\n",
    "class Jana:\n",
    "    \"\"\"\n",
    "    Creade class Jana with the attribute person\n",
    "    \"\"\"\n",
    "    attr1 = \"person\"\n",
    "    count = 1\n",
    "    \n",
    "    def replicate(self, times=1):\n",
    "        Jana.count *= 2**times\n",
    "        print(\"There are now \", Jana.count)\n",
    "    def restart(self):\n",
    "        Jana.count = 1\n",
    "        print(\"We're back to\", Jana.count, Jana.attr1)"
   ]
  },
  {
   "cell_type": "code",
   "execution_count": null,
   "metadata": {},
   "outputs": [],
   "source": [
    "#export\n",
    "def hello(name):\n",
    "    \"Say hii\"\n",
    "    assert type(name) == str\n",
    "    print(\"Hello\", name)\n",
    "    "
   ]
  },
  {
   "cell_type": "markdown",
   "metadata": {},
   "source": [
    "Say hello to Sylvain"
   ]
  },
  {
   "cell_type": "code",
   "execution_count": null,
   "metadata": {},
   "outputs": [
    {
     "name": "stdout",
     "output_type": "stream",
     "text": [
      "Hello Sylv\n"
     ]
    }
   ],
   "source": [
    "hello(\"Sylv\")"
   ]
  },
  {
   "cell_type": "code",
   "execution_count": null,
   "metadata": {},
   "outputs": [
    {
     "name": "stdout",
     "output_type": "stream",
     "text": [
      "There are now  32\n",
      "We're back to 1 person\n"
     ]
    }
   ],
   "source": [
    "new = Jana()\n",
    "new.replicate(5)\n",
    "new.restart()\n",
    "assert Jana.attr1==\"person\"\n"
   ]
  },
  {
   "cell_type": "code",
   "execution_count": null,
   "metadata": {},
   "outputs": [],
   "source": []
  }
 ],
 "metadata": {
  "kernelspec": {
   "display_name": "Python 3",
   "language": "python",
   "name": "python3"
  }
 },
 "nbformat": 4,
 "nbformat_minor": 2
}
